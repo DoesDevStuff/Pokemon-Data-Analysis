{
 "cells": [
  {
   "cell_type": "code",
   "execution_count": 1,
   "id": "latin-project",
   "metadata": {},
   "outputs": [],
   "source": [
    "import pandas as panda\n",
    "from sklearn.model_selection import train_test_split\n",
    "\n",
    "#supervised learning using random forest classifier\n",
    "from sklearn.ensemble import RandomForestClassifier\n",
    "from sklearn.linear_model import LinearRegression\n",
    "from sklearn.metrics import mean_squared_error, accuracy_score, r2_score\n",
    "from math import sqrt\n",
    "\n",
    "# Model persistence to avoid training https://scikit-learn.org/stable/model_persistence.html\n",
    "import sklearn.externals\n",
    "import joblib\n",
    "\n",
    "# interactive charts, I prefer this over the static matplotlib chats.\n",
    "# Really good documentation and very easy to make dashboards or embed the figures elsewhere because it uses js too\n",
    "import plotly.express as px\n",
    "\n",
    "import plotly.graph_objects as go\n",
    "import numpy as np\n",
    "import matplotlib.pyplot as plot"
   ]
  },
  {
   "cell_type": "code",
   "execution_count": 2,
   "id": "measured-student",
   "metadata": {},
   "outputs": [
    {
     "data": {
      "text/html": [
       "<div>\n",
       "<style scoped>\n",
       "    .dataframe tbody tr th:only-of-type {\n",
       "        vertical-align: middle;\n",
       "    }\n",
       "\n",
       "    .dataframe tbody tr th {\n",
       "        vertical-align: top;\n",
       "    }\n",
       "\n",
       "    .dataframe thead th {\n",
       "        text-align: right;\n",
       "    }\n",
       "</style>\n",
       "<table border=\"1\" class=\"dataframe\">\n",
       "  <thead>\n",
       "    <tr style=\"text-align: right;\">\n",
       "      <th></th>\n",
       "      <th>id</th>\n",
       "      <th>name</th>\n",
       "      <th>primary_type</th>\n",
       "      <th>secondary_type</th>\n",
       "      <th>total</th>\n",
       "      <th>hp</th>\n",
       "      <th>attack</th>\n",
       "      <th>defense</th>\n",
       "      <th>special_atk</th>\n",
       "      <th>special_def</th>\n",
       "      <th>speed</th>\n",
       "      <th>generation</th>\n",
       "      <th>legendary</th>\n",
       "      <th>first_pokemon</th>\n",
       "      <th>second_pokemon</th>\n",
       "      <th>winner</th>\n",
       "      <th>total_wins</th>\n",
       "      <th>total_fights</th>\n",
       "      <th>win_percentage</th>\n",
       "      <th>count</th>\n",
       "    </tr>\n",
       "  </thead>\n",
       "  <tbody>\n",
       "    <tr>\n",
       "      <th>0</th>\n",
       "      <td>1</td>\n",
       "      <td>Bulbasaur</td>\n",
       "      <td>Grass</td>\n",
       "      <td>Poison</td>\n",
       "      <td>318</td>\n",
       "      <td>45</td>\n",
       "      <td>49</td>\n",
       "      <td>49</td>\n",
       "      <td>65</td>\n",
       "      <td>65</td>\n",
       "      <td>45</td>\n",
       "      <td>1</td>\n",
       "      <td>False</td>\n",
       "      <td>TornadusIncarnate Forme</td>\n",
       "      <td>Virizion</td>\n",
       "      <td>Virizion</td>\n",
       "      <td>37.0</td>\n",
       "      <td>133.0</td>\n",
       "      <td>0.278195</td>\n",
       "      <td>1</td>\n",
       "    </tr>\n",
       "    <tr>\n",
       "      <th>1</th>\n",
       "      <td>2</td>\n",
       "      <td>Ivysaur</td>\n",
       "      <td>Grass</td>\n",
       "      <td>Poison</td>\n",
       "      <td>405</td>\n",
       "      <td>60</td>\n",
       "      <td>62</td>\n",
       "      <td>63</td>\n",
       "      <td>80</td>\n",
       "      <td>80</td>\n",
       "      <td>60</td>\n",
       "      <td>1</td>\n",
       "      <td>False</td>\n",
       "      <td>Natu</td>\n",
       "      <td>Litwick</td>\n",
       "      <td>Litwick</td>\n",
       "      <td>46.0</td>\n",
       "      <td>121.0</td>\n",
       "      <td>0.380165</td>\n",
       "      <td>1</td>\n",
       "    </tr>\n",
       "    <tr>\n",
       "      <th>2</th>\n",
       "      <td>3</td>\n",
       "      <td>Venusaur</td>\n",
       "      <td>Grass</td>\n",
       "      <td>Poison</td>\n",
       "      <td>525</td>\n",
       "      <td>80</td>\n",
       "      <td>82</td>\n",
       "      <td>83</td>\n",
       "      <td>100</td>\n",
       "      <td>100</td>\n",
       "      <td>80</td>\n",
       "      <td>1</td>\n",
       "      <td>False</td>\n",
       "      <td>Magcargo</td>\n",
       "      <td>Golett</td>\n",
       "      <td>Golett</td>\n",
       "      <td>89.0</td>\n",
       "      <td>132.0</td>\n",
       "      <td>0.674242</td>\n",
       "      <td>1</td>\n",
       "    </tr>\n",
       "    <tr>\n",
       "      <th>3</th>\n",
       "      <td>4</td>\n",
       "      <td>Charmander</td>\n",
       "      <td>Fire</td>\n",
       "      <td>None</td>\n",
       "      <td>309</td>\n",
       "      <td>39</td>\n",
       "      <td>52</td>\n",
       "      <td>43</td>\n",
       "      <td>60</td>\n",
       "      <td>50</td>\n",
       "      <td>65</td>\n",
       "      <td>1</td>\n",
       "      <td>False</td>\n",
       "      <td>Kabuto</td>\n",
       "      <td>Heracross</td>\n",
       "      <td>Kabuto</td>\n",
       "      <td>70.0</td>\n",
       "      <td>125.0</td>\n",
       "      <td>0.560000</td>\n",
       "      <td>1</td>\n",
       "    </tr>\n",
       "    <tr>\n",
       "      <th>4</th>\n",
       "      <td>5</td>\n",
       "      <td>Charmeleon</td>\n",
       "      <td>Fire</td>\n",
       "      <td>None</td>\n",
       "      <td>405</td>\n",
       "      <td>58</td>\n",
       "      <td>64</td>\n",
       "      <td>58</td>\n",
       "      <td>80</td>\n",
       "      <td>65</td>\n",
       "      <td>80</td>\n",
       "      <td>1</td>\n",
       "      <td>False</td>\n",
       "      <td>Galvantula</td>\n",
       "      <td>Spritzee</td>\n",
       "      <td>Galvantula</td>\n",
       "      <td>55.0</td>\n",
       "      <td>112.0</td>\n",
       "      <td>0.491071</td>\n",
       "      <td>1</td>\n",
       "    </tr>\n",
       "  </tbody>\n",
       "</table>\n",
       "</div>"
      ],
      "text/plain": [
       "   id        name primary_type secondary_type  total  hp  attack  defense  \\\n",
       "0   1   Bulbasaur        Grass         Poison    318  45      49       49   \n",
       "1   2     Ivysaur        Grass         Poison    405  60      62       63   \n",
       "2   3    Venusaur        Grass         Poison    525  80      82       83   \n",
       "3   4  Charmander         Fire           None    309  39      52       43   \n",
       "4   5  Charmeleon         Fire           None    405  58      64       58   \n",
       "\n",
       "   special_atk  special_def  speed  generation  legendary  \\\n",
       "0           65           65     45           1      False   \n",
       "1           80           80     60           1      False   \n",
       "2          100          100     80           1      False   \n",
       "3           60           50     65           1      False   \n",
       "4           80           65     80           1      False   \n",
       "\n",
       "             first_pokemon second_pokemon      winner  total_wins  \\\n",
       "0  TornadusIncarnate Forme       Virizion    Virizion        37.0   \n",
       "1                     Natu        Litwick     Litwick        46.0   \n",
       "2                 Magcargo         Golett      Golett        89.0   \n",
       "3                   Kabuto      Heracross      Kabuto        70.0   \n",
       "4               Galvantula       Spritzee  Galvantula        55.0   \n",
       "\n",
       "   total_fights  win_percentage  count  \n",
       "0         133.0        0.278195      1  \n",
       "1         121.0        0.380165      1  \n",
       "2         132.0        0.674242      1  \n",
       "3         125.0        0.560000      1  \n",
       "4         112.0        0.491071      1  "
      ]
     },
     "execution_count": 2,
     "metadata": {},
     "output_type": "execute_result"
    }
   ],
   "source": [
    "# preprocess the data\n",
    "\n",
    "panda.set_option('display.max_columns', None)\n",
    "panda.set_option('mode.chained_assignment', None)\n",
    "\n",
    "# read the dataframe\n",
    "pokemon_dataframe = panda.read_csv('./PokemonArchive/data/cleaned_pokemon_stats.csv', sep = ',')\n",
    "pokemon_dataframe.head()"
   ]
  },
  {
   "cell_type": "code",
   "execution_count": 3,
   "id": "completed-praise",
   "metadata": {},
   "outputs": [
    {
     "data": {
      "text/plain": [
       "['id',\n",
       " 'name',\n",
       " 'primary_type',\n",
       " 'secondary_type',\n",
       " 'total',\n",
       " 'hp',\n",
       " 'attack',\n",
       " 'defense',\n",
       " 'special_atk',\n",
       " 'special_def',\n",
       " 'speed',\n",
       " 'generation',\n",
       " 'legendary',\n",
       " 'first_pokemon',\n",
       " 'second_pokemon',\n",
       " 'winner',\n",
       " 'total_wins',\n",
       " 'total_fights',\n",
       " 'win_percentage',\n",
       " 'count']"
      ]
     },
     "execution_count": 3,
     "metadata": {},
     "output_type": "execute_result"
    }
   ],
   "source": [
    "# print colmns names \n",
    "list(pokemon_dataframe.columns.values)"
   ]
  },
  {
   "cell_type": "code",
   "execution_count": 4,
   "id": "imported-spencer",
   "metadata": {},
   "outputs": [],
   "source": [
    "# Delete Nan \n",
    "pokemon_dataframe = pokemon_dataframe.dropna(axis=0, how='any')"
   ]
  },
  {
   "cell_type": "code",
   "execution_count": 5,
   "id": "circular-edward",
   "metadata": {},
   "outputs": [],
   "source": [
    "# X is features, y is win_percentage\n",
    "# the features include the following ['id','name','primary_type','secondary_type','total','hp','attack','defense','special_atk','special_def','speed','generation']\n",
    "# index starts from zero\n",
    "X = pokemon_dataframe.iloc[:, 4:12].values\n",
    "y = pokemon_dataframe.iloc[:, -2].values\n",
    "\n",
    "# printing the values here will help get the accurate column to adjust, uncomment the two lines below for the same\n",
    "# X\n",
    "# y"
   ]
  },
  {
   "cell_type": "code",
   "execution_count": 6,
   "id": "disturbed-acceptance",
   "metadata": {},
   "outputs": [
    {
     "data": {
      "text/plain": [
       "array([[318,  45,  49, ...,  65,  45,   1],\n",
       "       [405,  60,  62, ...,  80,  60,   1],\n",
       "       [525,  80,  82, ..., 100,  80,   1],\n",
       "       ...,\n",
       "       [600,  50, 100, ..., 150,  50,   6],\n",
       "       [600,  80, 110, ..., 130,  70,   6],\n",
       "       [600,  80, 110, ...,  90,  70,   6]], dtype=int64)"
      ]
     },
     "execution_count": 6,
     "metadata": {},
     "output_type": "execute_result"
    }
   ],
   "source": [
    "X"
   ]
  },
  {
   "cell_type": "code",
   "execution_count": 7,
   "id": "alive-subscriber",
   "metadata": {},
   "outputs": [
    {
     "name": "stdout",
     "output_type": "stream",
     "text": [
      "Model score / R squared score: 0.3116920561956361\n",
      "Mean squared error: 24.81887622621009\n"
     ]
    }
   ],
   "source": [
    "target = pokemon_dataframe['attack']\n",
    "features = pokemon_dataframe[['defense', 'speed', 'hp']]\n",
    "\n",
    "x_train, x_test, y_train, y_test = train_test_split(features, target, test_size=0.3, random_state=8)\n",
    "\n",
    "model_linear = LinearRegression()\n",
    "\n",
    "model_linear.fit(x_train, y_train)\n",
    "prediction = model_linear.predict(x_test)\n",
    "\n",
    "print(\"Model score / R squared score: {}\".format(model_linear.score(x_test, y_test)))\n",
    "\n",
    "mse = np.sqrt(mean_squared_error(y_test, prediction))\n",
    "print(\"Mean squared error: {}\".format(mse))"
   ]
  },
  {
   "cell_type": "code",
   "execution_count": 8,
   "id": "comic-blind",
   "metadata": {},
   "outputs": [
    {
     "data": {
      "text/plain": [
       "Text(0.5,1,'Attack vs Predicted attack:')"
      ]
     },
     "execution_count": 8,
     "metadata": {},
     "output_type": "execute_result"
    },
    {
     "data": {
      "image/png": "[encoded data removed]",
      "text/plain": [
       "<Figure size 432x288 with 1 Axes>"
      ]
     },
     "metadata": {
      "needs_background": "light"
     },
     "output_type": "display_data"
    }
   ],
   "source": [
    "plot.scatter(y_test, prediction)\n",
    "plot.xlabel(\"Attack:\")\n",
    "plot.ylabel(\"Predicted attack:\")\n",
    "plot.title(\"Attack vs Predicted attack:\")"
   ]
  },
  {
   "cell_type": "code",
   "execution_count": 14,
   "id": "lightweight-infrastructure",
   "metadata": {},
   "outputs": [
    {
     "name": "stdout",
     "output_type": "stream",
     "text": [
      "Predicted attack stat for Charmander: 54.000017898962106\n",
      "Actual attack stat for Charmander: 52\n",
      "\n",
      "Predicted attack stat for Bulbasaur: 53.349168658913555\n",
      "Actual attack stat for Bulbasaur: 49\n"
     ]
    }
   ],
   "source": [
    "# Filter the dataframe to get rows for Charmander and Bulbasaur\n",
    "charmander_row = pokemon_dataframe[pokemon_dataframe['name'] == 'Charmander']\n",
    "bulbasaur_row = pokemon_dataframe[pokemon_dataframe['name'] == 'Bulbasaur']\n",
    "\n",
    "# Extract the features for Charmander and Bulbasaur\n",
    "charmander_features = charmander_row[['defense', 'speed', 'hp']]\n",
    "bulbasaur_features = bulbasaur_row[['defense', 'speed', 'hp']]\n",
    "\n",
    "# Predict attack stat for Charmander and Bulbasaur\n",
    "charmander_predicted_attack = model_linear.predict(charmander_features)\n",
    "bulbasaur_predicted_attack = model_linear.predict(bulbasaur_features)\n",
    "\n",
    "# Extract the actual attack stat values for Charmander and Bulbasaur\n",
    "charmander_actual_attack = charmander_row['attack'].values[0]\n",
    "bulbasaur_actual_attack = bulbasaur_row['attack'].values[0]\n",
    "\n",
    "print(\"Predicted attack stat for Charmander:\", charmander_predicted_attack[0])\n",
    "print(\"Actual attack stat for Charmander:\", charmander_actual_attack)\n",
    "\n",
    "print(\"\\nPredicted attack stat for Bulbasaur:\", bulbasaur_predicted_attack[0])\n",
    "print(\"Actual attack stat for Bulbasaur:\", bulbasaur_actual_attack)\n"
   ]
  },
  {
   "cell_type": "code",
   "execution_count": 15,
   "id": "seeing-morris",
   "metadata": {},
   "outputs": [
    {
     "data": {
      "text/html": [
       "<div>\n",
       "<style scoped>\n",
       "    .dataframe tbody tr th:only-of-type {\n",
       "        vertical-align: middle;\n",
       "    }\n",
       "\n",
       "    .dataframe tbody tr th {\n",
       "        vertical-align: top;\n",
       "    }\n",
       "\n",
       "    .dataframe thead th {\n",
       "        text-align: right;\n",
       "    }\n",
       "</style>\n",
       "<table border=\"1\" class=\"dataframe\">\n",
       "  <thead>\n",
       "    <tr style=\"text-align: right;\">\n",
       "      <th></th>\n",
       "      <th>First_pokemon</th>\n",
       "      <th>Second_pokemon</th>\n",
       "    </tr>\n",
       "  </thead>\n",
       "  <tbody>\n",
       "    <tr>\n",
       "      <th>0</th>\n",
       "      <td>Gyarados</td>\n",
       "      <td>Goldeen</td>\n",
       "    </tr>\n",
       "    <tr>\n",
       "      <th>1</th>\n",
       "      <td>Fletchling</td>\n",
       "      <td>Scizor</td>\n",
       "    </tr>\n",
       "    <tr>\n",
       "      <th>2</th>\n",
       "      <td>Klefki</td>\n",
       "      <td>Horsea</td>\n",
       "    </tr>\n",
       "    <tr>\n",
       "      <th>3</th>\n",
       "      <td>Espeon</td>\n",
       "      <td>Mienfoo</td>\n",
       "    </tr>\n",
       "    <tr>\n",
       "      <th>4</th>\n",
       "      <td>Sandslash</td>\n",
       "      <td>Frogadier</td>\n",
       "    </tr>\n",
       "  </tbody>\n",
       "</table>\n",
       "</div>"
      ],
      "text/plain": [
       "  First_pokemon Second_pokemon\n",
       "0      Gyarados        Goldeen\n",
       "1    Fletchling         Scizor\n",
       "2        Klefki         Horsea\n",
       "3        Espeon        Mienfoo\n",
       "4     Sandslash      Frogadier"
      ]
     },
     "execution_count": 15,
     "metadata": {},
     "output_type": "execute_result"
    }
   ],
   "source": [
    "test_data = panda.read_csv('./PokemonArchive/data/tests.csv', sep = ',')\n",
    "new_test_data = test_data[[\"First_pokemon\",\"Second_pokemon\"]].replace(pokemon_dataframe.name)\n",
    "new_test_data.head()"
   ]
  },
  {
   "cell_type": "code",
   "execution_count": null,
   "id": "applicable-moore",
   "metadata": {},
   "outputs": [],
   "source": []
  }
 ],
 "metadata": {
  "kernelspec": {
   "display_name": "Python 3",
   "language": "python",
   "name": "python3"
  },
  "language_info": {
   "codemirror_mode": {
    "name": "ipython",
    "version": 3
   },
   "file_extension": ".py",
   "mimetype": "text/x-python",
   "name": "python",
   "nbconvert_exporter": "python",
   "pygments_lexer": "ipython3",
   "version": "3.6.12"
  }
 },
 "nbformat": 4,
 "nbformat_minor": 5
}
